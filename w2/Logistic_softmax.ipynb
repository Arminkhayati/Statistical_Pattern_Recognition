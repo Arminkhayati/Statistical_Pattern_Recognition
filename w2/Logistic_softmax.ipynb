{
  "nbformat": 4,
  "nbformat_minor": 0,
  "metadata": {
    "colab": {
      "name": "Logistic_softmax.ipynb",
      "provenance": [],
      "collapsed_sections": []
    },
    "kernelspec": {
      "name": "python3",
      "display_name": "Python 3"
    }
  },
  "cells": [
    {
      "cell_type": "code",
      "metadata": {
        "id": "qGlQ_ZIK6pkl"
      },
      "source": [
        "import pandas as pd\n",
        "import numpy as np\n",
        "from sklearn.model_selection import train_test_split\n",
        "import matplotlib.pyplot as plt\n",
        "import seaborn as sns\n",
        " \n",
        " \n",
        "def raw_data():\n",
        "  data = pd.read_csv('/content/iris.data',names=['Sepal Length', 'Sepal Width', 'Petal Length', 'Petal Width', 'iris_class'])\n",
        "  data[\"iris_class\"].replace({\"Iris-setosa\": 0., \"Iris-virginica\": 1., \"Iris-versicolor\": 2.}, inplace=True)\n",
        "  X_train, X_test, y_train, y_test = train_test_split(data.iloc[ : , 0:-1], data.iloc[ : , -1], stratify=data['iris_class'], test_size=0.2, random_state=2020)\n",
        "  return X_train, X_test, y_train, y_test\n",
        " \n",
        "def prepared_data():\n",
        "  X_train, X_test, y_train, y_test = raw_data()\n",
        "  X_train, X_test = addbias(X_train), addbias(X_test)\n",
        "  y_train, y_test = relabel_data(y_train), relabel_data(y_test)\n",
        "  return X_train, X_test, y_train, y_test\n",
        " \n",
        "def init_weights(shape):\n",
        "  return np.zeros(shape, dtype='float64')\n",
        " \n",
        "def relabel_data(y):\n",
        "    label = list(set(y))\n",
        "    relabeled_data = np.zeros(len(y)*len(label)).reshape(len(y),len(label))\n",
        "    for i in range(len(label)):\n",
        "        relabeled_data[y==label[i],i] = 1\n",
        "    return relabeled_data\n",
        " \n",
        "def addbias(x):\n",
        "    return np.concatenate((np.ones((len(x))).reshape(-1,1), x),axis = 1)\n",
        " \n",
        "def softmax(z):\n",
        "    z -= np.max(z)\n",
        "    sm = (np.exp(z).T / np.sum(np.exp(z),axis=1)).T\n",
        "    return sm\n",
        " \n",
        "def compute_loss(y_, y):\n",
        "  return -1/y.size * np.sum(y * np.log(y_) + (1 - y) * np.log(1 - y_), axis=0)\n",
        " \n",
        "def gradient_dsc(X, y, y_):\n",
        "  return np.dot(X.T, (y_ - y)) / y.size\n",
        " \n",
        "def update_weights(w, lr, grad):\n",
        "  return w - lr * grad.T\n",
        " \n",
        "def mse(y_, y):\n",
        "  diff = np.subtract(y_, y)\n",
        "  ms = np.power(diff, 2, dtype='float64')\n",
        "  return np.mean(ms)\n",
        " \n",
        "def train(X_train, y_train, lr, epochs, weights): \n",
        "    for i in range(epochs): \n",
        "        xw = np.dot(X_train, weights.T)\n",
        "        prob = softmax(xw)\n",
        "        grad = gradient_dsc(X_train, y_train, prob)\n",
        "        weights = update_weights(weights, lr, grad)\n",
        "        loss = compute_loss(prob, y_train)\n",
        "        loss_log.append(loss)\n",
        "    return weights\n",
        " \n",
        "def predict(X, weights):\n",
        "    z = np.dot(X, weights.T)\n",
        "    return softmax(z)\n",
        " \n",
        "def predict_label(X, weights):\n",
        "  a = predict(X, weights)\n",
        "  # b = np.zeros_like(a)\n",
        "  # b[np.arange(len(a)), a.argmax(1)] = 1\n",
        "  return np.argmax(a, axis=1)\n",
        " \n",
        "loss_log = []\n",
        "epochs = 20000\n",
        "lr = 0.01\n",
        "X_train, X_test, y_train, y_test = prepared_data()\n",
        "weights = init_weights((y_train.shape[1], X_train.shape[1]))\n",
        "weights\n",
        "weights = train(X_train, y_train, lr, epochs, weights)"
      ],
      "execution_count": null,
      "outputs": []
    },
    {
      "cell_type": "code",
      "metadata": {
        "colab": {
          "base_uri": "https://localhost:8080/",
          "height": 265
        },
        "id": "Kfj4wtaV6v4I",
        "outputId": "6ac3c9b6-303a-4880-a5f5-f170459ee0c3"
      },
      "source": [
        "\r\n",
        "loss_log = np.array(loss_log)\r\n",
        "plt.plot(list(range(len(loss_log))), loss_log[:,0], color='Blue', label='Model 1 v ALL')\r\n",
        "plt.plot(list(range(len(loss_log))), loss_log[:,1], color='Orange', label='Model 2 v ALL')\r\n",
        "plt.plot(list(range(len(loss_log))), loss_log[:,2], color='Green', label='Model 3 v ALL')\r\n",
        "plt.legend(loc='best')\r\n",
        "plt.show()"
      ],
      "execution_count": null,
      "outputs": [
        {
          "output_type": "display_data",
          "data": {
            "image/png": "[encoded data removed]",
            "text/plain": [
              "<Figure size 432x288 with 1 Axes>"
            ]
          },
          "metadata": {
            "tags": [],
            "needs_background": "light"
          }
        }
      ]
    },
    {
      "cell_type": "code",
      "metadata": {
        "colab": {
          "base_uri": "https://localhost:8080/"
        },
        "id": "KAWTxMGs6ytD",
        "outputId": "42b08159-32fd-472c-b054-bfceacedaabe"
      },
      "source": [
        "# Train multiclass classification by softmax regression and report train and test accuracy\r\n",
        "# What method (one-vs.-one, one-vs.-all or softmax) has worked best?\r\n",
        "from sklearn.metrics import accuracy_score\r\n",
        "y_pred = predict_label(X_train, weights)\r\n",
        "y_true = np.argmax(y_train, axis=1)\r\n",
        "\r\n",
        "print(\"Train Accuracy : \", accuracy_score(y_true, y_pred))\r\n",
        "y_pred = predict_label(X_test, weights)\r\n",
        "y_true = np.argmax(y_test, axis=1)\r\n",
        "print(\"Test Accuracy : \", accuracy_score(y_true, y_pred))"
      ],
      "execution_count": null,
      "outputs": [
        {
          "output_type": "stream",
          "text": [
            "Train Accuracy :  0.975\n",
            "Test Accuracy :  1.0\n"
          ],
          "name": "stdout"
        }
      ]
    },
    {
      "cell_type": "code",
      "metadata": {
        "id": "7PlKr21K65pY"
      },
      "source": [
        ""
      ],
      "execution_count": null,
      "outputs": []
    }
  ]
}