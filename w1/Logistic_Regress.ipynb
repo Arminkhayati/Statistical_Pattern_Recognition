{
  "nbformat": 4,
  "nbformat_minor": 0,
  "metadata": {
    "colab": {
      "name": "Logistic_Regress.ipynb",
      "provenance": []
    },
    "kernelspec": {
      "name": "python3",
      "display_name": "Python 3"
    }
  },
  "cells": [
    {
      "cell_type": "code",
      "metadata": {
        "id": "0VZBsYGEX3M_",
        "colab": {
          "base_uri": "https://localhost:8080/"
        },
        "outputId": "8f139da1-b951-4910-8942-56c184ef0fff"
      },
      "source": [
        "import pandas as pd\n",
        "import numpy as np\n",
        "from sklearn.model_selection import train_test_split\n",
        "\n",
        "def load_data():\n",
        "  data = pd.read_csv('/content/iris.data',names=['s_lenght', 's_width', 'p_length', 'p_width', 'iris_class'])\n",
        "  data.drop(['p_length', 'p_width'], axis=1, inplace=True)\n",
        "  data = data[data.iris_class != 'Iris-versicolor']\n",
        "  data[\"iris_class\"].replace({\"Iris-setosa\": 0., \"Iris-virginica\": 1.}, inplace=True)\n",
        "  X_train, X_test, y_train, y_test = train_test_split(data.iloc[ : , 0:-1], data.iloc[ : , -1], stratify=data['iris_class'], test_size=0.2, random_state=2020)\n",
        "  return X_train, X_test, y_train, y_test\n",
        "\n",
        "def init_weights(size):\n",
        "  return np.array(np.random.rand(X_train.shape[1]), dtype='float64')\n",
        "\n",
        "def sigmoid(x):\n",
        "    y = 1 / (1 + np.exp(-x))\n",
        "    return y\n",
        "\n",
        "def compute_loss(y_, y, size):\n",
        "  return -1/size * np.sum(y * np.log(y_)) + (1 - y) * np.log(1-y_)\n",
        "\n",
        "def update_weight(x, y, y_, lr, size):\n",
        "   return lr * (1/size * np.dot(x.T, (y_ - y)))\n",
        "\n",
        "def update_bias(y, y_, lr, size):\n",
        "  return lr * (1/size * np.sum(y_ - y))\n",
        "\n",
        "def normalization(data):\n",
        "  data = (data) / data.max()\n",
        "  return data\n",
        "\n",
        "def train(x, y, lr, epochs, weight, bias): \n",
        "    size = x.shape[0]\n",
        "    for i in range(epochs): \n",
        "        weighted_sum = np.dot(x, weight) + bias\n",
        "        y_ = sigmoid(weighted_sum)\n",
        "        loss = compute_loss(y_, y, size)\n",
        "        loss_log.append(loss)\n",
        "        weight = weight - update_weight(x, y, y_, lr, size)\n",
        "        bias = bias - update_bias(y, y_, lr, size)\n",
        "    return np.hstack([bias, weight])\n",
        "\n",
        "def decision_boundary(x, weight, bias):\n",
        "  return - (bias + np.dot(weight[0], x)) / weight[1]\n",
        "\n",
        "def predict(model, x):\n",
        "    return sigmoid(np.dot(x, model[1:]) + model[0])\n",
        "\n",
        "def mse(y_, y):\n",
        "  diff = np.subtract(y_, y)\n",
        "  ms = np.power(diff, 2, dtype='float64')\n",
        "  return np.mean(ms)\n",
        "\n",
        "X_train, X_test, y_train, y_test = load_data()\n",
        "weights = init_weights(X_train.shape[1])\n",
        "\n",
        "X_train = X_train.to_numpy(dtype='float64')\n",
        "X_test = X_test.to_numpy(dtype='float64')\n",
        "y_train = y_train.to_numpy(dtype='float64')\n",
        "y_test = y_test.to_numpy(dtype='float64')\n",
        "\n",
        "# X_train = normalization(X_train)\n",
        "# X_test = normalization(X_test)\n",
        "\n",
        "loss_log = []\n",
        "model = train(X_train, y_train, 0.02, 10000, weights , 0)\n",
        "model"
      ],
      "execution_count": 24,
      "outputs": [
        {
          "output_type": "execute_result",
          "data": {
            "text/plain": [
              "array([-1.84068029,  3.74906738, -6.11761313])"
            ]
          },
          "metadata": {
            "tags": []
          },
          "execution_count": 24
        }
      ]
    },
    {
      "cell_type": "code",
      "metadata": {
        "colab": {
          "base_uri": "https://localhost:8080/"
        },
        "id": "JiIdgCq54Fsy",
        "outputId": "732be558-9835-4fee-88d5-e38dd024fe40"
      },
      "source": [
        "print(\"MSE Train = \", mse(predict(model, X_train), y_train))\n",
        "print(\"MSE Test  = \", mse(predict(model, X_test), y_test))"
      ],
      "execution_count": 25,
      "outputs": [
        {
          "output_type": "stream",
          "text": [
            "MSE Train =  0.012259941193327703\n",
            "MSE Test  =  0.00109176933208449\n"
          ],
          "name": "stdout"
        }
      ]
    },
    {
      "cell_type": "code",
      "metadata": {
        "colab": {
          "base_uri": "https://localhost:8080/",
          "height": 265
        },
        "id": "Ksf-IDaqfoBw",
        "outputId": "925e130c-95c2-4333-f6f0-a15a87246c05"
      },
      "source": [
        "import matplotlib.pyplot as plt\n",
        "\n",
        "x_values = pd.DataFrame(data=X_train, columns=[\"column1\", \"column2\"])\n",
        "y_values = pd.DataFrame(data=y_train, columns=[\"classes\"])\n",
        "\n",
        "result = pd.concat([x_values, y_values], axis=1, sort=False)\n",
        "class0 = result[result.classes == 0]\n",
        "class1 = result[result.classes == 1]\n",
        "\n",
        "\n",
        "plt.scatter(class0.iloc[:,0], class0.iloc[:, 1], s=10, label='Class 0')\n",
        "plt.scatter(class1.iloc[:,0], class1.iloc[:, 1], s=10, label='Class 1')\n",
        "x_values = [np.min(x_values.iloc[:, 0]), np.max(x_values.iloc[:, 0])]\n",
        "y_values = decision_boundary(x_values, model[1:], model[0])\n",
        "plt.plot(x_values, y_values, label='Decision Boundary', color='purple')\n",
        "plt.legend()\n",
        "plt.show()"
      ],
      "execution_count": 26,
      "outputs": [
        {
          "output_type": "display_data",
          "data": {
            "image/png": "[encoded data removed]",
            "text/plain": [
              "<Figure size 432x288 with 1 Axes>"
            ]
          },
          "metadata": {
            "tags": [],
            "needs_background": "light"
          }
        }
      ]
    },
    {
      "cell_type": "code",
      "metadata": {
        "colab": {
          "base_uri": "https://localhost:8080/",
          "height": 267
        },
        "id": "oFPdRlp85ruu",
        "outputId": "59717279-b58c-431b-99d5-0e2a3df8a21c"
      },
      "source": [
        "import matplotlib.pyplot as plt\n",
        "x_values = pd.DataFrame(data=X_test, columns=[\"column1\", \"column2\"])\n",
        "y_values = pd.DataFrame(data=y_test, columns=[\"classes\"])\n",
        "result = pd.concat([x_values, y_values], axis=1, sort=False)\n",
        "class0 = result[result.classes == 0]\n",
        "class1 = result[result.classes == 1]\n",
        "\n",
        "\n",
        "plt.scatter(class0.iloc[:,0], class0.iloc[:, 1], s=20, label='Class 0')\n",
        "plt.scatter(class1.iloc[:,0], class1.iloc[:, 1], s=20, label='Class 1')\n",
        "x_values = [np.min(x_values.iloc[:, 0]), np.max(x_values.iloc[:, 0])]\n",
        "y_values = decision_boundary(x_values, model[1:], model[0])\n",
        "plt.plot(x_values, y_values, label='Decision Boundary', color='purple')\n",
        "plt.legend()\n",
        "plt.show()"
      ],
      "execution_count": 27,
      "outputs": [
        {
          "output_type": "display_data",
          "data": {
            "image/png": "[encoded data removed]",
            "text/plain": [
              "<Figure size 432x288 with 1 Axes>"
            ]
          },
          "metadata": {
            "tags": [],
            "needs_background": "light"
          }
        }
      ]
    },
    {
      "cell_type": "code",
      "metadata": {
        "id": "Ts7c-sG_UT7u"
      },
      "source": [
        ""
      ],
      "execution_count": null,
      "outputs": []
    }
  ]
}