{
  "nbformat": 4,
  "nbformat_minor": 0,
  "metadata": {
    "colab": {
      "name": "Clossed_Form_Regression",
      "provenance": [],
      "collapsed_sections": []
    },
    "kernelspec": {
      "name": "python3",
      "display_name": "Python 3"
    }
  },
  "cells": [
    {
      "cell_type": "code",
      "metadata": {
        "colab": {
          "base_uri": "https://localhost:8080/",
          "height": 335
        },
        "id": "hK5nnWlw7BTJ",
        "outputId": "4c7dbabe-61d4-4fdd-eb6c-a72ebb8ed712"
      },
      "source": [
        "import pandas as pd\n",
        "import numpy as np\n",
        "import matplotlib.pyplot as plt\n",
        "\n",
        "\n",
        "def load_data():\n",
        "  train_data = pd.read_csv('/content/Data-Train.csv')\n",
        "  test_data = pd.read_csv('/content/Data-Test.csv',)\n",
        "  print(len(train_data), \" Train Data Loaded\")\n",
        "  print(len(test_data), \" Test Data Loaded\")\n",
        "  return train_data, test_data\n",
        "\n",
        "def normalization(data):\n",
        "  data[:,0] = (data[:,0]) / data[:,0].max()\n",
        "  return data\n",
        "\n",
        "def prepare_data():\n",
        "  train , test = load_data()\n",
        "  train = train.to_numpy(dtype='float64')\n",
        "  test = test.to_numpy(dtype='float64')\n",
        "  train = normalization(train)\n",
        "  test = normalization(test)\n",
        "  x = train[: , 0:-1]\n",
        "  y = train[: , -1]\n",
        "  x_ = test[: , 0:-1]\n",
        "  y_ = test[: , -1]\n",
        "  return x,y,x_,y_\n",
        "\n",
        "def learn_model(x, y):\n",
        "  xxt = np.dot(x.T, x)\n",
        "  xxt_inv = np.linalg.inv(xxt)\n",
        "  xty = np.dot(x.T, y)\n",
        "  theta = np.dot(xxt_inv, xty)\n",
        "  print(\"Theta = \", theta)\n",
        "  return theta\n",
        "\n",
        "def predict(x, model):\n",
        "  return np.dot(model.T, x.T).flatten()\n",
        "\n",
        "def mse(y_, y):\n",
        "  diff = np.subtract(y_, y)\n",
        "  ms = np.power(diff, 2, dtype='float64')\n",
        "  return np.sum(ms) / len(y)\n",
        "\n",
        "def lin_regplot(X, y, model):\n",
        "    plt.scatter(X, y, c='blue')\n",
        "    plt.plot(X, predict(X, model), color='red')    \n",
        "    return\n",
        "\n",
        "x_train, y_train, x_test, y_test = prepare_data()\n",
        "cfmodel = learn_model(x_train, y_train)\n",
        "predicted_y = predict(x_test, cfmodel)\n",
        "print(\"MSE Test: \" , mse(predicted_y, y_test))\n",
        "lin_regplot(x_test,y_test, cfmodel)\n",
        "\n"
      ],
      "execution_count": null,
      "outputs": [
        {
          "output_type": "stream",
          "text": [
            "1000  Train Data Loaded\n",
            "300  Test Data Loaded\n",
            "Theta =  [100.15481913]\n",
            "MSE Test:  9.332616851081493\n"
          ],
          "name": "stdout"
        },
        {
          "output_type": "display_data",
          "data": {
            "image/png": "[encoded data removed]",
            "text/plain": [
              "<Figure size 432x288 with 1 Axes>"
            ]
          },
          "metadata": {
            "tags": [],
            "needs_background": "light"
          }
        }
      ]
    },
    {
      "cell_type": "code",
      "metadata": {
        "colab": {
          "base_uri": "https://localhost:8080/",
          "height": 282
        },
        "id": "ySmqIQeuHnMl",
        "outputId": "884fd5e5-428d-498e-aaa0-4478e18d0376"
      },
      "source": [
        "predicted_y = predict(x_train, cfmodel)\n",
        "print(\"MSE Train: \" , mse(predicted_y, y_train))\n",
        "lin_regplot(x_train,y_train, cfmodel)"
      ],
      "execution_count": null,
      "outputs": [
        {
          "output_type": "stream",
          "text": [
            "MSE Train:  8.339910252067114\n"
          ],
          "name": "stdout"
        },
        {
          "output_type": "display_data",
          "data": {
            "image/png": "[encoded data removed]",
            "text/plain": [
              "<Figure size 432x288 with 1 Axes>"
            ]
          },
          "metadata": {
            "tags": [],
            "needs_background": "light"
          }
        }
      ]
    },
    {
      "cell_type": "code",
      "metadata": {
        "colab": {
          "base_uri": "https://localhost:8080/"
        },
        "id": "4UkUXxWSHvR1",
        "outputId": "02dde8e1-4c3f-4edb-8a9e-74f817bc20f9"
      },
      "source": [
        "cfmodel"
      ],
      "execution_count": null,
      "outputs": [
        {
          "output_type": "execute_result",
          "data": {
            "text/plain": [
              "array([100.15481913])"
            ]
          },
          "metadata": {
            "tags": []
          },
          "execution_count": 6
        }
      ]
    },
    {
      "cell_type": "code",
      "metadata": {
        "id": "bn72xeCiIJjr"
      },
      "source": [
        ""
      ],
      "execution_count": null,
      "outputs": []
    }
  ]
}