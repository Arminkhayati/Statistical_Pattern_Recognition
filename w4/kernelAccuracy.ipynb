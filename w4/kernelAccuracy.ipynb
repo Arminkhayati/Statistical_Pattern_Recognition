{
 "cells": [
  {
   "cell_type": "code",
   "execution_count": 1,
   "metadata": {},
   "outputs": [],
   "source": [
    "import numpy as np\n",
    "import pandas as pd\n",
    "\n",
    "def raw_data(path):\n",
    "  data = pd.read_csv(path)\n",
    "  return data.values\n"
   ]
  },
  {
   "cell_type": "code",
   "execution_count": 2,
   "metadata": {},
   "outputs": [],
   "source": [
    "def parzenWindowd(u, sigma):\n",
    "    if np.abs(u) <= np.abs(1/2):\n",
    "        return 1\n",
    "    else:\n",
    "        return 0"
   ]
  },
  {
   "cell_type": "code",
   "execution_count": 3,
   "metadata": {},
   "outputs": [],
   "source": [
    "import math\n",
    "\n",
    "def gaussian(u, sigma):\n",
    "   #   if  np.abs(u) <=  np.abs(1/2):\n",
    "      return (1/(math.sqrt(2*math.pi) * sigma)) * math.exp(-(u**2)/(2*sigma**2))\n",
    "   #   else:\n",
    "      #   return 0\n"
   ]
  },
  {
   "cell_type": "code",
   "execution_count": 48,
   "metadata": {},
   "outputs": [],
   "source": [
    "def kernel(kernelFunction, dataPoint, x, h, sigma):\n",
    "    dim = len(dataPoint)\n",
    "    prod = 1\n",
    "    for j in range(0, dim):\n",
    "        prod *= kernelFunction((x[j]-dataPoint[j])/h, sigma)\n",
    "    return prod\n",
    "\n",
    "\n",
    "def KDE(data_2d, h,X_2d, sigma, kernel_type='gaussian'):\n",
    "    N = np.size(X_2d, 0)\n",
    "    d = np.size(data_2d, 1)  \n",
    "    probs = []  \n",
    "\n",
    "    if kernel_type == 'parzen':\n",
    "        K = parzenWindowd\n",
    "    elif kernel_type == 'gaussian':\n",
    "        K = gaussian\n",
    "\n",
    "    for x in X_2d:\n",
    "        px = 1/N * 1/(h**d) * np.sum([kernel(K, dataPoint, x, h, sigma) for dataPoint in data_2d])\n",
    "        probs.append(px) \n",
    "\n",
    "    return np.array(probs)"
   ]
  },
  {
   "cell_type": "code",
   "execution_count": 46,
   "metadata": {
    "tags": []
   },
   "outputs": [
    {
     "output_type": "stream",
     "name": "stdout",
     "text": [
      "3.0066815144766146\n"
     ]
    }
   ],
   "source": [
    "from sklearn.model_selection import train_test_split\n",
    "data = raw_data('dataset.csv')\n",
    "X_train, X_test, y_train, y_test = train_test_split(data[:,:-1], data[:,-1], test_size=0.1, random_state=42)\n",
    "\n",
    "class0Train = []\n",
    "class1Train = []\n",
    "class2Train = []\n",
    "\n",
    "for index, label in enumerate(y_train):\n",
    "    if label == 0:\n",
    "        class0Train.append(X_train[index])\n",
    "    elif label == 1:\n",
    "        class1Train.append(X_train[index])\n",
    "    elif label == 2:\n",
    "        class2Train.append(X_train[index])\n",
    "\n",
    "class0Train = np.array(class0Train)\n",
    "class1Train = np.array(class1Train)\n",
    "class2Train = np.array(class2Train)\n",
    "\n",
    "class0Py = len(X_train) / len(class0Train)\n",
    "class1Py = len(X_train) / len(class1Train)\n",
    "class2Py = len(X_train) / len(class2Train)\n",
    "print(class2Py)\n"
   ]
  },
  {
   "cell_type": "code",
   "execution_count": 43,
   "metadata": {},
   "outputs": [],
   "source": [
    "import matplotlib.pyplot as plt\n",
    "from mpl_toolkits.mplot3d import Axes3D\n",
    "\n",
    "Hs = [0.3, 0.6, 0.9]\n",
    "sigma = 0.6"
   ]
  },
  {
   "cell_type": "code",
   "execution_count": 49,
   "metadata": {},
   "outputs": [
    {
     "output_type": "stream",
     "name": "stdout",
     "text": [
      "h:  0.3\n",
      "Accuracy:  88.66666666666667\n",
      "h:  0.6\n",
      "Accuracy:  90.66666666666666\n",
      "h:  0.9\n",
      "Accuracy:  91.33333333333333\n"
     ]
    }
   ],
   "source": [
    "from sklearn.metrics import accuracy_score\n",
    "\n",
    "for h in Hs:\n",
    "    print(\"h: \",h)\n",
    "    class0Prob = KDE(class0Train, h, X_test, sigma, 'gaussian') * class0Py\n",
    "    class1Prob = KDE(class1Train, h, X_test, sigma, 'gaussian') * class1Py\n",
    "    class2Prob = KDE(class2Train, h, X_test, sigma, 'gaussian') * class2Py\n",
    "\n",
    "\n",
    "\n",
    "    y_pred = []\n",
    "    for i,val in enumerate(class0Prob):\n",
    "        maxi = val\n",
    "        label = 0\n",
    "        if class1Prob[i] > maxi:\n",
    "            maxi = class1Prob[i]\n",
    "            label = 1\n",
    "        if class2Prob[i]> maxi:\n",
    "            maxi = class2Prob[i]\n",
    "            label = 2\n",
    "        y_pred.append(label)\n",
    "    y_pred = np.array(y_pred)\n",
    "\n",
    "    accuracy = accuracy_score(y_test, y_pred)\n",
    "    print(\"Accuracy: \",accuracy * 100)"
   ]
  },
  {
   "cell_type": "code",
   "execution_count": null,
   "metadata": {},
   "outputs": [],
   "source": []
  }
 ],
 "metadata": {
  "kernelspec": {
   "display_name": "Python 3",
   "language": "python",
   "name": "python3"
  },
  "language_info": {
   "codemirror_mode": {
    "name": "ipython",
    "version": 3
   },
   "file_extension": ".py",
   "mimetype": "text/x-python",
   "name": "python",
   "nbconvert_exporter": "python",
   "pygments_lexer": "ipython3",
   "version": "3.8.5-final"
  }
 },
 "nbformat": 4,
 "nbformat_minor": 2
}