{
 "metadata": {
  "language_info": {
   "codemirror_mode": {
    "name": "ipython",
    "version": 3
   },
   "file_extension": ".py",
   "mimetype": "text/x-python",
   "name": "python",
   "nbconvert_exporter": "python",
   "pygments_lexer": "ipython3",
   "version": "3.8.5-final"
  },
  "orig_nbformat": 2,
  "kernelspec": {
   "name": "python3",
   "display_name": "Python 3",
   "language": "python"
  }
 },
 "nbformat": 4,
 "nbformat_minor": 2,
 "cells": [
  {
   "cell_type": "code",
   "execution_count": 1,
   "metadata": {},
   "outputs": [],
   "source": [
    "import numpy as np\n",
    "import pandas as pd\n",
    "from math import sqrt\n",
    "from operator import add\n",
    "from functools import reduce\n",
    "def raw_data(path):\n",
    "  data = pd.read_csv(path)\n",
    "  return data.values"
   ]
  },
  {
   "cell_type": "code",
   "execution_count": 2,
   "metadata": {},
   "outputs": [],
   "source": [
    "import math\n",
    "\n",
    "def gaussian(u, sigma):\n",
    "   #   if  np.abs(u) <=  np.abs(1/2):\n",
    "      return (1/(math.sqrt(2*math.pi) * sigma)) * math.exp(-(u**2)/(2*sigma**2))\n",
    "   #   else:\n",
    "      #   return 0"
   ]
  },
  {
   "cell_type": "code",
   "execution_count": 3,
   "metadata": {},
   "outputs": [],
   "source": [
    "def l2(d1, d2):\n",
    "    return sqrt(reduce(add, map(lambda y1, y2: (y1 - y2) ** 2, d1, d2)))"
   ]
  },
  {
   "cell_type": "code",
   "execution_count": 5,
   "metadata": {},
   "outputs": [],
   "source": [
    "from scipy.stats import multivariate_normal\n",
    "\n",
    "def truePDF(data, mu, cov, per):\n",
    "    true_pdf = 0\n",
    "    for i in range(len(mu)):\n",
    "        true_pdf += (per[i] * multivariate_normal(mu[i], cov[i]).pdf(data))\n",
    "    return true_pdf"
   ]
  },
  {
   "cell_type": "code",
   "execution_count": 13,
   "metadata": {},
   "outputs": [],
   "source": [
    "def kernel(dataPoint, x, h, sigma):\n",
    "    dim = len(dataPoint)\n",
    "    prod = 1\n",
    "    for j in range(0, dim):\n",
    "        prod *= gaussian((x[j]-dataPoint[j])/h, sigma)\n",
    "    return prod\n",
    "\n",
    "def kFold(data_length, k):\n",
    "    folds = []\n",
    "    fold_size = data_length/k\n",
    "    for i in range(k):\n",
    "        folds.append([int(i*fold_size),int(((i+1)*fold_size)) - 1])\n",
    "    return folds\n",
    "\n",
    "def generateData(data, size):\n",
    "    x = np.linspace(np.amin(data[:, 0]), np.amax(\n",
    "        data[:, 0]), size).reshape(-1, 1)\n",
    "    y = np.linspace(np.amin(data[:, 1]), np.amax(\n",
    "        data[:, 1]), size).reshape(-1, 1)\n",
    "    xx, yy = np.meshgrid(x, y)\n",
    "    X_2d = np.concatenate(\n",
    "        [xx.ravel().reshape(-1, 1), yy.ravel().reshape(-1, 1)], axis=1)\n",
    "    return xx, yy, X_2d\n",
    "\n",
    "def KDE(data, mu, cov, per, h_min, h_max, h_step, sigma, k, sample_size):\n",
    "    \n",
    "    folds = kFold(len(data), k)\n",
    "    np.random.shuffle(data)\n",
    "    min_error = 1e9\n",
    "    best_h = 0\n",
    "\n",
    "    for h in np.arange(h_min, h_max, h_step):\n",
    "        print(\"h: \", h)\n",
    "        folds_h = []\n",
    "        MSE = []\n",
    "        for i, index in enumerate(folds):\n",
    "            print(\"fold: \", i)\n",
    "            xx, yy, X_2d = generateData(data[index[0]:index[1],:], sample_size)\n",
    "            data_2d = data[index[1]+1:]\n",
    "            N = np.size(X_2d, 0)\n",
    "            d = np.size(data_2d, 1)  \n",
    "\n",
    "            est_density = []  \n",
    "            for x in X_2d:\n",
    "                px = 1/N * 1/(h**d) * np.sum([kernel(dataPoint, x, h, sigma) for dataPoint in data_2d])\n",
    "                est_density.append(px) \n",
    "            true_density = truePDF(X_2d,mu, cov, per)\n",
    "            est_density = np.array(est_density)\n",
    "\n",
    "            error = l2(true_density, est_density)\n",
    "            MSE.append(error)\n",
    "        mse = np.sum(MSE) / k\n",
    "        print(\"h =\", round(h, 2), \": l2 =\", mse)\n",
    "        if mse < min_error:\n",
    "            min_error = mse\n",
    "            best_h = h\n",
    "    return best_h, min_error"
   ]
  },
  {
   "cell_type": "code",
   "execution_count": 10,
   "metadata": {},
   "outputs": [
    {
     "output_type": "stream",
     "name": "stdout",
     "text": [
      "2D Data: \n (1500, 2)\n"
     ]
    }
   ],
   "source": [
    "data_2s = raw_data('dataset.csv')\n",
    "data = data_2s[:,:-1]\n",
    "print(\"2D Data: \\n\", data.shape)\n"
   ]
  },
  {
   "cell_type": "code",
   "execution_count": 11,
   "metadata": {},
   "outputs": [],
   "source": [
    "import matplotlib.pyplot as plt\n",
    "from mpl_toolkits.mplot3d import Axes3D\n",
    "\n",
    "fold = 5\n",
    "sigmas = [0.6]\n",
    "\n",
    "mu = np.array([[2, 5],\n",
    "               [8, 1],\n",
    "               [5, 3]])\n",
    "cov = np.array([[[2, 0], [0, 2]],\n",
    "                  [[3, 1], [1, 3]],\n",
    "                  [[2, 1], [1, 2]]])\n",
    "per = [1/3,1/3,1/3]\n",
    "sample_size = 20"
   ]
  },
  {
   "cell_type": "code",
   "execution_count": 15,
   "metadata": {},
   "outputs": [
    {
     "output_type": "stream",
     "name": "stdout",
     "text": [
      "sigma:  0.6\n",
      "h:  0.3\n",
      "fold:  0\n",
      "fold:  1\n",
      "fold:  2\n",
      "fold:  3\n",
      "fold:  4\n",
      "h = 0.3 : l2 = 0.22564840173786002\n",
      "h:  0.4\n",
      "fold:  0\n",
      "fold:  1\n",
      "fold:  2\n",
      "fold:  3\n",
      "fold:  4\n",
      "h = 0.4 : l2 = 0.20523257557791857\n",
      "h:  0.5\n",
      "fold:  0\n",
      "fold:  1\n",
      "fold:  2\n",
      "fold:  3\n",
      "fold:  4\n",
      "h = 0.5 : l2 = 0.1944451659285239\n",
      "h:  0.6000000000000001\n",
      "fold:  0\n",
      "fold:  1\n",
      "fold:  2\n",
      "fold:  3\n",
      "fold:  4\n",
      "h = 0.6 : l2 = 0.18768458716042072\n",
      "h:  0.7000000000000002\n",
      "fold:  0\n",
      "fold:  1\n",
      "fold:  2\n",
      "fold:  3\n",
      "fold:  4\n",
      "h = 0.7 : l2 = 0.18291737187981483\n",
      "h:  0.8000000000000003\n",
      "fold:  0\n",
      "fold:  1\n",
      "fold:  2\n",
      "fold:  3\n",
      "fold:  4\n",
      "h = 0.8 : l2 = 0.1792491548044564\n",
      "h:  0.9000000000000001\n",
      "fold:  0\n",
      "fold:  1\n",
      "fold:  2\n",
      "fold:  3\n",
      "fold:  4\n",
      "h = 0.9 : l2 = 0.17625023516897304\n",
      "Best H:  0.9000000000000001\n",
      "End Gaussian KDE\n"
     ]
    }
   ],
   "source": [
    "\n",
    "for sigma in sigmas:\n",
    "    print(\"sigma: \",sigma)\n",
    "    best_h, min_error = KDE(data, mu, cov, per, 0.3, 0.9, 0.1, sigma, fold, sample_size)\n",
    "    print(\"Best H: \", best_h)\n",
    "print(\"End Gaussian KDE\")\n"
   ]
  },
  {
   "cell_type": "code",
   "execution_count": null,
   "metadata": {},
   "outputs": [],
   "source": []
  }
 ]
}